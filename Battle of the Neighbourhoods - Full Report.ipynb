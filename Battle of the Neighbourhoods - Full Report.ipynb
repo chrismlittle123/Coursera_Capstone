{
 "cells": [
  {
   "cell_type": "markdown",
   "metadata": {},
   "source": [
    "## Introduction"
   ]
  },
  {
   "cell_type": "markdown",
   "metadata": {},
   "source": [
    "The aim of this project is to have a set of criteria:\n",
    "\n",
    "- Stakeholder's weekly rent budget\n",
    "- Stakeholder's property type\n",
    "- Stakeholder's must have venues within a 2 km radius\n",
    "\n",
    "Then recommend an area to live in London which meets this criteria.\n",
    "\n",
    "This would help someone who is moving to London find areas which meet their personal requirements and which fit their budget."
   ]
  },
  {
   "cell_type": "markdown",
   "metadata": {},
   "source": [
    "## Data"
   ]
  },
  {
   "cell_type": "markdown",
   "metadata": {},
   "source": [
    "The data that I would use to solve this problem is:\n",
    "\n",
    "- FourSquare data on nearby venues\n",
    "- London rent prices data\n",
    "- Stakeholder's criteria\n",
    "\n",
    "I will use FourSquare data to find venues which are within a 2 km radius of each area. This will help us search for areas which have the venues that a stakeholder would like.\n",
    "\n",
    "I will use London rent prices to help select areas based on the stakeholder's criteria. For example, if they are going to live in a one bedroom apartment but can only afford £300 per week to spend on rent, this well help us filter our suggested areas.\n",
    "\n",
    "London rent prices can be found here: https://www.rentbarometer.com/london/all-prices/by-name.html\n",
    "\n",
    "I will need the stakeholder's criteria as this will determine which areas we suggest."
   ]
  },
  {
   "cell_type": "markdown",
   "metadata": {},
   "source": [
    "## Methodology"
   ]
  },
  {
   "cell_type": "markdown",
   "metadata": {},
   "source": [
    "1. Retrieve the data on London rent prices and cleaned it.\n",
    "2. Get the coordinates of each area in London using GeoLocator.\n",
    "3. Use the FourSquare API to get nearbyvenues in each area.\n",
    "4. Create dummy variables for London venue types and calculated frequency scores for each venue grouped by London area.\n",
    "5. Merge the resulting dataframe with the London rent prices dataframe to get one dataframe with London rent prices and venue frequency scores.\n",
    "6. Get stakeholder's criteria in the form of a dictionary.\n",
    "7. Find similar venues to \"Must Have\" venues in criteria.\n",
    "8. Find areas which have at least one of the similar venues within 2 km for each \"Must Have\" venue.\n",
    "9. Print the result as a dataframe.\n",
    "10. Plot the points on a map.\n",
    "\n"
   ]
  },
  {
   "cell_type": "markdown",
   "metadata": {},
   "source": [
    "## Results"
   ]
  },
  {
   "cell_type": "markdown",
   "metadata": {},
   "source": [
    "The result is a great guide to where you could live in London, it points you to an area which has the venues that you want and is within your budget.\n",
    "\n",
    "The map view lets you identify areas which fill your criteria, then you can do further research on each area. "
   ]
  },
  {
   "cell_type": "markdown",
   "metadata": {},
   "source": [
    "## Discussion"
   ]
  },
  {
   "cell_type": "markdown",
   "metadata": {},
   "source": [
    "I think I could have added another element, which is a work address and proximity to work criteria. If they enter a work address in London and a maximum distance from work, GeoLocator would find the coordinates and then you can choose areas which are within your maximum distance from your place of work."
   ]
  },
  {
   "cell_type": "markdown",
   "metadata": {},
   "source": [
    "## Conclusion"
   ]
  },
  {
   "cell_type": "markdown",
   "metadata": {},
   "source": [
    "In conclusion, the recommender system did a good job of showing places which match all of your criteria. The map view also helps the person see where tac"
   ]
  }
 ],
 "metadata": {
  "kernelspec": {
   "display_name": "Python 3",
   "language": "python",
   "name": "python3"
  },
  "language_info": {
   "codemirror_mode": {
    "name": "ipython",
    "version": 3
   },
   "file_extension": ".py",
   "mimetype": "text/x-python",
   "name": "python",
   "nbconvert_exporter": "python",
   "pygments_lexer": "ipython3",
   "version": "3.8.1"
  }
 },
 "nbformat": 4,
 "nbformat_minor": 4
}
