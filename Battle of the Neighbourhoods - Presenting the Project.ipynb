{
 "cells": [
  {
   "cell_type": "markdown",
   "metadata": {},
   "source": [
    "## A description of the problem and a discussion of the background."
   ]
  },
  {
   "cell_type": "markdown",
   "metadata": {},
   "source": [
    "The aim of this project is to have a set of criteria:\n",
    "\n",
    "- Stakeholder's weekly rent budget\n",
    "- Stakeholder's property type\n",
    "- Stakeholder's must have venues within a 2 km radius\n",
    "\n",
    "Then recommend an area to live in London which meets this criteria.\n",
    "\n",
    "This would help someone who is moving to London find areas which meet their personal requirements and which fit their budget."
   ]
  },
  {
   "cell_type": "markdown",
   "metadata": {},
   "source": [
    "## A description of the data and how it will be used to solve the problem."
   ]
  },
  {
   "cell_type": "markdown",
   "metadata": {},
   "source": [
    "The data that I would use to solve this problem is:\n",
    "\n",
    "- FourSquare data on nearby venues\n",
    "- London rent prices data\n",
    "- Stakeholder's criteria"
   ]
  },
  {
   "cell_type": "markdown",
   "metadata": {},
   "source": [
    "I will use FourSquare data to find venues which are within a 2 km radius of each area. This will help us search for areas which have the venues that a stakeholder would like.\n",
    "\n",
    "I will use London rent prices to help select areas based on the stakeholder's criteria. For example, if they are going to live in a one bedroom apartment but can only afford £300 per week to spend on rent, this well help us filter our suggested areas.\n",
    "\n",
    "I will need the stakeholder's criteria as this will determine which areas we suggest."
   ]
  }
 ],
 "metadata": {
  "kernelspec": {
   "display_name": "Python 3",
   "language": "python",
   "name": "python3"
  },
  "language_info": {
   "codemirror_mode": {
    "name": "ipython",
    "version": 3
   },
   "file_extension": ".py",
   "mimetype": "text/x-python",
   "name": "python",
   "nbconvert_exporter": "python",
   "pygments_lexer": "ipython3",
   "version": "3.8.1"
  }
 },
 "nbformat": 4,
 "nbformat_minor": 4
}
